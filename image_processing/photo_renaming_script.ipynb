{
 "cells": [
  {
   "cell_type": "markdown",
   "id": "330774c7",
   "metadata": {},
   "source": [
    "# Rename"
   ]
  },
  {
   "cell_type": "code",
   "execution_count": 1,
   "id": "01405023-691c-4dea-804f-e6520975ef5d",
   "metadata": {},
   "outputs": [],
   "source": [
    "import os"
   ]
  },
  {
   "cell_type": "code",
   "execution_count": null,
   "id": "2cf0296b-0620-4f02-b1d8-460005c204f7",
   "metadata": {},
   "outputs": [],
   "source": [
    "path_base = \"Датасет оффроуд/Датасет оффроуд/Mississippi_ready\"\n",
    "folder = []\n",
    "folder.append(\"Powerline\")\n",
    "folder.append(\"Main_Trail\")\n",
    "folder.append(\"Fogdata\")\n",
    "folder.append(\"Brown_field\")"
   ]
  },
  {
   "cell_type": "code",
   "execution_count": 35,
   "id": "f006b46d-66e1-48f4-8023-2b78371b8e0c",
   "metadata": {},
   "outputs": [],
   "source": [
    "len_start = 514\n",
    "len_arr = []\n",
    "len_arr.append(99)\n",
    "len_arr.append(200)\n",
    "len_arr.append(279)\n",
    "len_arr.append(200)"
   ]
  },
  {
   "cell_type": "code",
   "execution_count": 27,
   "id": "f61ddbcf-3c79-4c48-a6f4-ebf477119f99",
   "metadata": {},
   "outputs": [],
   "source": [
    "# num = file number\n",
    "# path\n",
    "# ext = file extension\n",
    "# cum_num = the sum of all previous counts (where to start)\n",
    "def rename(num, path, ext, cum_num):\n",
    "    # file name\n",
    "    file_name = \"0\"*(5 - len(str(num))) + str(num) + ext\n",
    "    file_name_o = file_name\n",
    "    # int + x\n",
    "    file_num = num + cum_num # num goes from 1 to end, x is the last file number before the current\n",
    "    # int -> str\n",
    "    file_name = str(file_num)\n",
    "    # return leading 0s\n",
    "    file_name = \"0\"*(5 - len(file_name)) + file_name\n",
    "    # return file extention\n",
    "    file_name = file_name + ext\n",
    "    # rename file\n",
    "    os.rename(f\"{path}/{file_name_o}\", f\"{path}/{file_name}\")"
   ]
  },
  {
   "cell_type": "code",
   "execution_count": 43,
   "id": "df6f8468-d3d9-4c96-9e21-e42b1e8b0a30",
   "metadata": {},
   "outputs": [],
   "source": [
    "for i in range(4):\n",
    "    path_full = f\"{path_base}/{folder[i]}\"\n",
    "    #code\n",
    "    for j in range(1, len_arr[i]+1):\n",
    "        fname = \"0\"*(5 - len(str(j))) + str(j)\n",
    "        rename(j, f\"{path_full}/{fname}\", '.jpg', len_start)\n",
    "        rename(j, f\"{path_full}/{fname}\", '.png', len_start)\n",
    "        rename(j, path_full, '', len_start)\n",
    "    # next starting file number\n",
    "    len_start += len_arr[i]"
   ]
  },
  {
   "cell_type": "markdown",
   "id": "7bdc6af2-9556-40c0-a05b-4125c0eb57a1",
   "metadata": {},
   "source": [
    "# Separate Photo and Annotation"
   ]
  },
  {
   "cell_type": "code",
   "execution_count": null,
   "id": "a47e50c8",
   "metadata": {},
   "outputs": [],
   "source": []
  },
  {
   "cell_type": "code",
   "execution_count": null,
   "id": "8f09c841-7f58-423f-a1be-ad4616b07424",
   "metadata": {},
   "outputs": [],
   "source": [
    "# These paths must already exist (be created) for the code to work\n",
    "#path_base = \"Dataset/Train\"\n",
    "#path_photo = \"Dataset/Train_Photo\"\n",
    "#path_annot = \"Dataset/Train_Annot\"\n",
    "\n",
    "#path_base = \"Dataset\"\n",
    "path_test = \"Dataset/Test\"\n",
    "path_train = \"Dataset/Train\"\n",
    "path_val = \"Dataset/Valid\"\n",
    "path_photo = \"JPG\"\n",
    "path_annot = \"PNG\"\n",
    "\n",
    "# not the right way to do it, but not difficult right now\n",
    "#num_max = 1292 "
   ]
  },
  {
   "cell_type": "code",
   "execution_count": 5,
   "id": "60016c1b-4745-46e0-b6de-63a7d50cc77f",
   "metadata": {},
   "outputs": [],
   "source": [
    "# num = file number\n",
    "def move(num, p_base = path_base, p_photo = path_photo, p_annot = path_annot):\n",
    "    ext_a = \".png\"\n",
    "    ext_p = \".jpg\"\n",
    "    # file name\n",
    "    file_name = \"0\"*(5 - len(str(num))) + str(num)\n",
    "    path_o = f\"{path_base}/{file_name}\"\n",
    "    file_name_p = file_name + ext_p\n",
    "    file_name_a = file_name + ext_a\n",
    "    # move file\n",
    "    os.rename(f\"{path_o}/{file_name_p}\", f\"{p_photo}/{file_name_p}\")\n",
    "    os.rename(f\"{path_o}/{file_name_a}\", f\"{p_annot}/{file_name_a}\")"
   ]
  },
  {
   "cell_type": "code",
   "execution_count": 11,
   "id": "bc4f1b86-6869-45c1-bb53-db60c43d58c4",
   "metadata": {},
   "outputs": [],
   "source": [
    "# 220.jpg and 224.jpg missing for me\n",
    "for i in range(0, 220):\n",
    "    move(i)\n",
    "for i in range(221, 224):\n",
    "    move(i)\n",
    "for i in range(225, num_max + 1):\n",
    "    move(i)"
   ]
  },
  {
   "cell_type": "markdown",
   "id": "1aab7b9f-270f-495d-a595-9a02f3e13479",
   "metadata": {},
   "source": [
    "# Creating a Train - Validation Split"
   ]
  },
  {
   "cell_type": "code",
   "execution_count": 18,
   "id": "0db73a45-a2ab-4d61-9a60-ce88ad75a243",
   "metadata": {},
   "outputs": [
    {
     "data": {
      "text/plain": [
       "4947414"
      ]
     },
     "execution_count": 18,
     "metadata": {},
     "output_type": "execute_result"
    }
   ],
   "source": [
    "import random\n",
    "random.randint(1, 6000000)"
   ]
  },
  {
   "cell_type": "code",
   "execution_count": 7,
   "id": "f89332b0-0a48-4112-9db6-901b112257c4",
   "metadata": {},
   "outputs": [],
   "source": [
    "import os\n",
    "import random\n",
    "\n",
    "path_new_photo = \"Dataset/RUGD_img\"\n",
    "path_new_annot = \"Dataset/RUGD_ann\"\n",
    "path_test = \"Dataset/Test\"\n",
    "path_train = \"Dataset/Train\"\n",
    "path_val = \"Dataset/Valid\"\n",
    "path_val2 = \"Dataset/Valid2\"\n",
    "path_photo = \"JPG\"\n",
    "path_annot = \"PNG\"\n",
    "\n",
    "# what percentage to move to validation\n",
    "# val_per = .2\n",
    "\n",
    "test_num = 2422 \n",
    "val_num = 870\n",
    "train_num = 3480\n",
    "\n",
    "# seed is used so that we all split the data the same way\n",
    "random.seed(4947414)"
   ]
  },
  {
   "cell_type": "markdown",
   "id": "bcb3498d",
   "metadata": {},
   "source": [
    "First we need to move half of the validation and train cases to the test folder."
   ]
  },
  {
   "cell_type": "code",
   "execution_count": null,
   "id": "c784febb",
   "metadata": {},
   "outputs": [],
   "source": [
    "def process_folder(input_path, output_path):\n",
    "    k = 0 # Счётчик фотографий\n",
    "    for filename in os.listdir(f\"{input_path}/{path_photo}\"):\n",
    "        if \"trail\" in filename.lower() and k%2 == 0:\n",
    "            #filename_annot = filename.replace(\"jpg\", \"png\")\n",
    "            image_path = os.path.join(f\"{input_path}/{path_photo}\", filename)\n",
    "            annot_path = os.path.join(f\"{input_path}/{path_annot}\", filename)\n",
    "            image_path_t = os.path.join(f\"{output_path}/{path_photo}\", filename)\n",
    "            annot_path_t = os.path.join(f\"{output_path}/{path_annot}\", filename)\n",
    "            # move file\n",
    "            os.rename(image_path, image_path_t)\n",
    "            os.rename(annot_path, annot_path_t)\n",
    "            \n",
    "        k += 1\n",
    "        if (k%100 == 0):\n",
    "            print(f\"Обработано {k} изображений\")\n",
    "    print(f\"Обработка завершена. Обработано {k} изображений\")"
   ]
  },
  {
   "cell_type": "code",
   "execution_count": 25,
   "id": "45be8979",
   "metadata": {},
   "outputs": [
    {
     "name": "stdout",
     "output_type": "stream",
     "text": [
      "Обработано 100 изображений\n",
      "Обработано 200 изображений\n",
      "Обработано 300 изображений\n",
      "Обработано 400 изображений\n",
      "Обработано 500 изображений\n",
      "Обработано 600 изображений\n",
      "Обработано 700 изображений\n",
      "Обработано 800 изображений\n",
      "Обработка завершена. Обработано 870 изображений\n"
     ]
    }
   ],
   "source": [
    "#process_folder(path_train, path_test)\n",
    "process_folder(path_val, path_val2)"
   ]
  },
  {
   "cell_type": "markdown",
   "id": "9a9ced21",
   "metadata": {},
   "source": [
    "Now we need to move the new photos to the other folders randomly, in a ratio which matches our desired number of photos."
   ]
  },
  {
   "cell_type": "code",
   "execution_count": 26,
   "id": "5faab529",
   "metadata": {},
   "outputs": [],
   "source": [
    "for i in os.listdir(f\"{path_train}/{path_photo}\"):\n",
    "    if not os.path.isfile(f\"{path_train}/{path_annot}/{i}\"[0:-4]+\".png\"):\n",
    "        print(\"1:\", i)\n",
    "for i in os.listdir(f\"{path_train}/{path_annot}\"):\n",
    "    if not os.path.isfile(f\"{path_train}/{path_photo}/{i}\"[0:-4]+\".png\") and not os.path.isfile(f\"{path_train}/{path_photo}/{i}\"[0:-4]+\".jpg\"):\n",
    "        print(\"2:\", i)\n",
    "for i in os.listdir(f\"{path_val}/{path_photo}\"):\n",
    "    if not os.path.isfile(f\"{path_val}/{path_annot}/{i}\"[0:-4]+\".png\"):\n",
    "        print(\"3:\", i)\n",
    "for i in os.listdir(f\"{path_val}/{path_annot}\"):\n",
    "    if not os.path.isfile(f\"{path_val}/{path_photo}/{i}\"[0:-4]+\".png\") and not os.path.isfile(f\"{path_val}/{path_photo}/{i}\"[0:-4]+\".jpg\"):\n",
    "        print(\"4:\", i)\n",
    "for i in os.listdir(f\"{path_test}/{path_photo}\"):\n",
    "    if not os.path.isfile(f\"{path_test}/{path_annot}/{i}\"[0:-4]+\".png\"):\n",
    "        print(\"5:\", i)\n",
    "for i in os.listdir(f\"{path_test}/{path_annot}\"):\n",
    "    if not os.path.isfile(f\"{path_test}/{path_photo}/{i}\"[0:-4]+\".png\") and not os.path.isfile(f\"{path_test}/{path_photo}/{i}\"[0:-4]+\".jpg\"):\n",
    "        print(\"6:\", i)"
   ]
  },
  {
   "cell_type": "code",
   "execution_count": 4,
   "id": "e826e1d9",
   "metadata": {},
   "outputs": [],
   "source": [
    "#inital case, then later cases\n",
    "def create_move_array(path, no_tar_tr, no_tar_val):\n",
    "    full_set = os.listdir(path)\n",
    "    train_arr = []\n",
    "    val_arr = []\n",
    "\n",
    "    # this moves random elements from full_set to train_arr\n",
    "    for i in range(no_tar_tr):\n",
    "        train_arr.append(full_set.pop(random.randint(0,len(full_set)-1)))\n",
    "\n",
    "        # this moves random elements from full_set to val_arr\n",
    "    for i in range(no_tar_val):\n",
    "        val_arr.append(full_set.pop(random.randint(0,len(full_set)-1)))\n",
    "    \n",
    "    return train_arr, val_arr"
   ]
  },
  {
   "cell_type": "code",
   "execution_count": 5,
   "id": "96cfb983",
   "metadata": {},
   "outputs": [],
   "source": [
    "def process_folder_2(input_path_i, input_path_a, no_tar_tr, no_tar_val):\n",
    "    k = 0 # Счётчик фотографий\n",
    "    move_arr_tr, move_arr_val = create_move_array(input_path_i, no_tar_tr, no_tar_val)\n",
    "    for filename in os.listdir(input_path_i):\n",
    "        if filename.lower().endswith(('.png', '.jpg', '.jpeg', '.bmp', '.gif')):\n",
    "            image_path = os.path.join(input_path_i, filename)\n",
    "            annot_path = os.path.join(input_path_a, filename)\n",
    "            if filename in move_arr_tr:\n",
    "                image_path_t = os.path.join(f\"{path_train}/{path_photo}\", filename)\n",
    "                annot_path_t = os.path.join(f\"{path_train}/{path_annot}\", filename)\n",
    "            elif filename in move_arr_val:\n",
    "                image_path_t = os.path.join(f\"{path_val}/{path_photo}\", filename)\n",
    "                annot_path_t = os.path.join(f\"{path_val}/{path_annot}\", filename)\n",
    "            else:\n",
    "                image_path_t = os.path.join(f\"{path_test}/{path_photo}\", filename)\n",
    "                annot_path_t = os.path.join(f\"{path_test}/{path_annot}\", filename)\n",
    "            # move file\n",
    "            os.rename(image_path, image_path_t)\n",
    "            os.rename(annot_path, annot_path_t)\n",
    "        k += 1\n",
    "        if (k%100 == 0):\n",
    "            print(f\"Обработано {k} изображений\")\n",
    "    print(f\"Обработка завершена. Обработано {k} изображений\")"
   ]
  },
  {
   "cell_type": "code",
   "execution_count": 6,
   "id": "71d08148",
   "metadata": {},
   "outputs": [
    {
     "name": "stdout",
     "output_type": "stream",
     "text": [
      "Обработано 100 изображений\n",
      "Обработано 200 изображений\n",
      "Обработано 300 изображений\n",
      "Обработано 400 изображений\n",
      "Обработано 500 изображений\n",
      "Обработано 600 изображений\n",
      "Обработано 700 изображений\n",
      "Обработано 800 изображений\n",
      "Обработано 900 изображений\n",
      "Обработано 1000 изображений\n",
      "Обработано 1100 изображений\n",
      "Обработано 1200 изображений\n",
      "Обработано 1300 изображений\n",
      "Обработано 1400 изображений\n",
      "Обработано 1500 изображений\n",
      "Обработано 1600 изображений\n",
      "Обработано 1700 изображений\n",
      "Обработано 1800 изображений\n",
      "Обработано 1900 изображений\n",
      "Обработано 2000 изображений\n",
      "Обработано 2100 изображений\n",
      "Обработано 2200 изображений\n",
      "Обработано 2300 изображений\n",
      "Обработано 2400 изображений\n",
      "Обработано 2500 изображений\n",
      "Обработано 2600 изображений\n",
      "Обработано 2700 изображений\n",
      "Обработано 2800 изображений\n",
      "Обработано 2900 изображений\n",
      "Обработано 3000 изображений\n",
      "Обработано 3100 изображений\n",
      "Обработано 3200 изображений\n",
      "Обработано 3300 изображений\n",
      "Обработано 3400 изображений\n",
      "Обработано 3500 изображений\n",
      "Обработано 3600 изображений\n",
      "Обработано 3700 изображений\n",
      "Обработано 3800 изображений\n",
      "Обработано 3900 изображений\n",
      "Обработано 4000 изображений\n",
      "Обработано 4100 изображений\n",
      "Обработано 4200 изображений\n",
      "Обработано 4300 изображений\n",
      "Обработано 4400 изображений\n",
      "Обработано 4500 изображений\n",
      "Обработано 4600 изображений\n",
      "Обработано 4700 изображений\n",
      "Обработано 4800 изображений\n",
      "Обработка завершена. Обработано 4843 изображений\n"
     ]
    }
   ],
   "source": [
    "no_tar_train = train_num - len(os.listdir(f\"{path_train}/{path_photo}\"))\n",
    "no_tar_val = val_num - len(os.listdir(f\"{path_val}/{path_photo}\"))\n",
    "\n",
    "process_folder_2(path_new_photo, path_new_annot, no_tar_train, no_tar_val)"
   ]
  },
  {
   "cell_type": "code",
   "execution_count": null,
   "id": "8a2e0482",
   "metadata": {},
   "outputs": [],
   "source": []
  }
 ],
 "metadata": {
  "kernelspec": {
   "display_name": "PyTorchCPU",
   "language": "python",
   "name": "python3"
  },
  "language_info": {
   "codemirror_mode": {
    "name": "ipython",
    "version": 3
   },
   "file_extension": ".py",
   "mimetype": "text/x-python",
   "name": "python",
   "nbconvert_exporter": "python",
   "pygments_lexer": "ipython3",
   "version": "3.12.9"
  }
 },
 "nbformat": 4,
 "nbformat_minor": 5
}
