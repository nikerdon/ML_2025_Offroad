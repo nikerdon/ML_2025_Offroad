{
 "cells": [
  {
   "cell_type": "code",
   "execution_count": 1,
   "id": "01405023-691c-4dea-804f-e6520975ef5d",
   "metadata": {},
   "outputs": [],
   "source": [
    "import os"
   ]
  },
  {
   "cell_type": "code",
   "execution_count": null,
   "id": "2cf0296b-0620-4f02-b1d8-460005c204f7",
   "metadata": {},
   "outputs": [],
   "source": [
    "path_base = \"Датасет оффроуд/Датасет оффроуд/Mississippi_ready\"\n",
    "folder = []\n",
    "folder.append(\"Powerline\")\n",
    "folder.append(\"Main_Trail\")\n",
    "folder.append(\"Fogdata\")\n",
    "folder.append(\"Brown_field\")"
   ]
  },
  {
   "cell_type": "code",
   "execution_count": 35,
   "id": "f006b46d-66e1-48f4-8023-2b78371b8e0c",
   "metadata": {},
   "outputs": [],
   "source": [
    "len_start = 514\n",
    "len_arr = []\n",
    "len_arr.append(99)\n",
    "len_arr.append(200)\n",
    "len_arr.append(279)\n",
    "len_arr.append(200)"
   ]
  },
  {
   "cell_type": "code",
   "execution_count": 27,
   "id": "f61ddbcf-3c79-4c48-a6f4-ebf477119f99",
   "metadata": {},
   "outputs": [],
   "source": [
    "# num = file number\n",
    "# path\n",
    "# ext = file extension\n",
    "# cum_num = the sum of all previous counts (where to start)\n",
    "def rename(num, path, ext, cum_num):\n",
    "    # file name\n",
    "    file_name = \"0\"*(5 - len(str(num))) + str(num) + ext\n",
    "    file_name_o = file_name\n",
    "    # int + x\n",
    "    file_num = num + cum_num # num goes from 1 to end, x is the last file number before the current\n",
    "    # int -> str\n",
    "    file_name = str(file_num)\n",
    "    # return leading 0s\n",
    "    file_name = \"0\"*(5 - len(file_name)) + file_name\n",
    "    # return file extention\n",
    "    file_name = file_name + ext\n",
    "    # rename file\n",
    "    os.rename(f\"{path}/{file_name_o}\", f\"{path}/{file_name}\")"
   ]
  },
  {
   "cell_type": "code",
   "execution_count": 43,
   "id": "df6f8468-d3d9-4c96-9e21-e42b1e8b0a30",
   "metadata": {},
   "outputs": [],
   "source": [
    "for i in range(4):\n",
    "    path_full = f\"{path_base}/{folder[i]}\"\n",
    "    #code\n",
    "    for j in range(1, len_arr[i]+1):\n",
    "        fname = \"0\"*(5 - len(str(j))) + str(j)\n",
    "        rename(j, f\"{path_full}/{fname}\", '.jpg', len_start)\n",
    "        rename(j, f\"{path_full}/{fname}\", '.png', len_start)\n",
    "        rename(j, path_full, '', len_start)\n",
    "    # next starting file number\n",
    "    len_start += len_arr[i]"
   ]
  },
  {
   "cell_type": "markdown",
   "id": "7bdc6af2-9556-40c0-a05b-4125c0eb57a1",
   "metadata": {},
   "source": [
    "# Separate Photo and Annotation"
   ]
  },
  {
   "cell_type": "code",
   "execution_count": null,
   "id": "a47e50c8",
   "metadata": {},
   "outputs": [],
   "source": []
  },
  {
   "cell_type": "code",
   "execution_count": null,
   "id": "8f09c841-7f58-423f-a1be-ad4616b07424",
   "metadata": {},
   "outputs": [],
   "source": [
    "# These paths must already exist (be created) for the code to work\n",
    "#path_base = \"Dataset/Train\"\n",
    "#path_photo = \"Dataset/Train_Photo\"\n",
    "#path_annot = \"Dataset/Train_Annot\"\n",
    "\n",
    "#path_base = \"Dataset\"\n",
    "path_test = \"Dataset/Test\"\n",
    "path_train = \"Dataset/Train\"\n",
    "path_val = \"Dataset/Valid\"\n",
    "path_photo = \"JPG\"\n",
    "path_annot = \"PNG\"\n",
    "\n",
    "# not the right way to do it, but not difficult right now\n",
    "#num_max = 1292 "
   ]
  },
  {
   "cell_type": "code",
   "execution_count": 5,
   "id": "60016c1b-4745-46e0-b6de-63a7d50cc77f",
   "metadata": {},
   "outputs": [],
   "source": [
    "# num = file number\n",
    "def move(num, p_base = path_base, p_photo = path_photo, p_annot = path_annot):\n",
    "    ext_a = \".png\"\n",
    "    ext_p = \".jpg\"\n",
    "    # file name\n",
    "    file_name = \"0\"*(5 - len(str(num))) + str(num)\n",
    "    path_o = f\"{path_base}/{file_name}\"\n",
    "    file_name_p = file_name + ext_p\n",
    "    file_name_a = file_name + ext_a\n",
    "    # move file\n",
    "    os.rename(f\"{path_o}/{file_name_p}\", f\"{p_photo}/{file_name_p}\")\n",
    "    os.rename(f\"{path_o}/{file_name_a}\", f\"{p_annot}/{file_name_a}\")"
   ]
  },
  {
   "cell_type": "code",
   "execution_count": 11,
   "id": "bc4f1b86-6869-45c1-bb53-db60c43d58c4",
   "metadata": {},
   "outputs": [],
   "source": [
    "# 220.jpg and 224.jpg missing for me\n",
    "for i in range(0, 220):\n",
    "    move(i)\n",
    "for i in range(221, 224):\n",
    "    move(i)\n",
    "for i in range(225, num_max + 1):\n",
    "    move(i)"
   ]
  },
  {
   "cell_type": "markdown",
   "id": "1aab7b9f-270f-495d-a595-9a02f3e13479",
   "metadata": {},
   "source": [
    "# Creating a Train - Validation Split"
   ]
  },
  {
   "cell_type": "code",
   "execution_count": 18,
   "id": "0db73a45-a2ab-4d61-9a60-ce88ad75a243",
   "metadata": {},
   "outputs": [
    {
     "data": {
      "text/plain": [
       "4947414"
      ]
     },
     "execution_count": 18,
     "metadata": {},
     "output_type": "execute_result"
    }
   ],
   "source": [
    "import random\n",
    "random.randint(1, 6000000)"
   ]
  },
  {
   "cell_type": "code",
   "execution_count": null,
   "id": "f89332b0-0a48-4112-9db6-901b112257c4",
   "metadata": {},
   "outputs": [],
   "source": [
    "import os\n",
    "import random\n",
    "\n",
    "path_new_photo = \"RUGD_img\"\n",
    "path_new_annot = \"RUGD_ann\"\n",
    "path_test = \"Dataset/Test\"\n",
    "path_train = \"Dataset/Train\"\n",
    "path_val = \"Dataset/Valid\"\n",
    "path_photo = \"JPG\"\n",
    "path_annot = \"PNG\"\n",
    "\n",
    "# what percentage to move to validation\n",
    "# val_per = .2\n",
    "\n",
    "test_num = 4351 \n",
    "val_num = 870\n",
    "train_num = 3480\n",
    "\n",
    "# seed is used so that we all split the data the same way\n",
    "random.seed(4947414)"
   ]
  },
  {
   "cell_type": "code",
   "execution_count": null,
   "id": "c784febb",
   "metadata": {},
   "outputs": [],
   "source": [
    "def process_folder(input_folder, output_folder, target_hex_colors, unknown_hex_colors):\n",
    "    \n",
    "    k = 0 # Счётчик фотографий\n",
    "    for filename in os.listdir(input_folder):\n",
    "        if filename.lower().endswith(('.png', '.jpg', '.jpeg', '.bmp', '.gif')):\n",
    "            image_path = os.path.join(input_folder, filename)\n",
    "            process_image(image_path, target_colors, unknown_colors, output_folder)\n",
    "        k += 1\n",
    "        if (k%100 == 0):\n",
    "            print(f\"Обработано {k} изображений\")\n",
    "    print(f\"Обработка завершена. Обработано {k} изображений\")"
   ]
  },
  {
   "cell_type": "code",
   "execution_count": null,
   "id": "d1ec4302",
   "metadata": {},
   "outputs": [],
   "source": [
    "def process_folder(input_folder, output_folder, target_hex_colors, unknown_hex_colors):\n",
    "    \n",
    "    k = 0 # Счётчик фотографий\n",
    "    for filename in os.listdir(input_folder):\n",
    "        if filename.lower().endswith(('.png', '.jpg', '.jpeg', '.bmp', '.gif')):\n",
    "            image_path = os.path.join(input_folder, filename)\n",
    "            process_image(image_path, target_colors, unknown_colors, output_folder)\n",
    "        k += 1\n",
    "        if (k%100 == 0):\n",
    "            print(f\"Обработано {k} изображений\")\n",
    "    print(f\"Обработка завершена. Обработано {k} изображений\")"
   ]
  },
  {
   "cell_type": "code",
   "execution_count": 26,
   "id": "e9306579-da07-4856-ac33-d9c3336867c0",
   "metadata": {},
   "outputs": [],
   "source": [
    "# num = file number\n",
    "def move(num, t_ph = path_photo, t_an = path_annot, v_ph = path_val_photo, v_an = path_val_annot):\n",
    "    ext_a = \".png\"\n",
    "    ext_p = \".jpg\"\n",
    "    # file name\n",
    "    file_name = \"0\"*(5 - len(str(num))) + str(num)\n",
    "    file_name_p = file_name + ext_p\n",
    "    file_name_a = file_name + ext_a\n",
    "    # move file\n",
    "    os.rename(f\"{t_ph}/{file_name_p}\", f\"{v_ph}/{file_name_p}\")\n",
    "    os.rename(f\"{t_an}/{file_name_a}\", f\"{v_an}/{file_name_a}\")"
   ]
  },
  {
   "cell_type": "code",
   "execution_count": 28,
   "id": "423f19f8-986e-489b-8685-08e4e5cdfff3",
   "metadata": {},
   "outputs": [],
   "source": [
    "def choose_rand_numbers(start, finish, missing, per = val_per):\n",
    "    num_arr = [i for i in range(start, finish + 1)]\n",
    "    val_arr = []\n",
    "\n",
    "    # if we have missing numbers, we don't consider them\n",
    "    if len(missing) > 0:\n",
    "        for i in missing:\n",
    "            num_arr.remove(i)\n",
    "\n",
    "    # now we want to know how many elements we need to randomly generate\n",
    "    no_val = int(len(num_arr) * val_per)\n",
    "\n",
    "    # this moves random elements from num_arr to val_arr\n",
    "    for i in range(no_val):\n",
    "        val_arr.append(num_arr.pop(random.randint(0,len(num_arr)-1)))\n",
    "    \n",
    "    return val_arr"
   ]
  },
  {
   "cell_type": "code",
   "execution_count": 30,
   "id": "50a256f2-d739-480c-ae9e-f65f9c98ea40",
   "metadata": {},
   "outputs": [],
   "source": [
    "#inital case, then later cases\n",
    "val_arr = choose_rand_numbers(0, len_arr[0], missing)\n",
    "for j in val_arr:\n",
    "    move(j)\n",
    "\n",
    "for i in range(1, len(len_arr)):\n",
    "    val_arr = choose_rand_numbers(len_arr[i-1] +1, len_arr[i], [])\n",
    "    for j in val_arr:\n",
    "        move(j)"
   ]
  },
  {
   "cell_type": "code",
   "execution_count": null,
   "id": "c7043ede-9b98-425d-8f31-a3733642d330",
   "metadata": {},
   "outputs": [],
   "source": []
  }
 ],
 "metadata": {
  "kernelspec": {
   "display_name": "PyTorchCPU",
   "language": "python",
   "name": "python3"
  },
  "language_info": {
   "codemirror_mode": {
    "name": "ipython",
    "version": 3
   },
   "file_extension": ".py",
   "mimetype": "text/x-python",
   "name": "python",
   "nbconvert_exporter": "python",
   "pygments_lexer": "ipython3",
   "version": "3.12.9"
  }
 },
 "nbformat": 4,
 "nbformat_minor": 5
}
