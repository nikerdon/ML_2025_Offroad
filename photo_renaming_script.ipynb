{
 "cells": [
  {
   "cell_type": "code",
   "execution_count": 1,
   "id": "01405023-691c-4dea-804f-e6520975ef5d",
   "metadata": {},
   "outputs": [],
   "source": [
    "import os"
   ]
  },
  {
   "cell_type": "code",
   "execution_count": 33,
   "id": "2cf0296b-0620-4f02-b1d8-460005c204f7",
   "metadata": {},
   "outputs": [],
   "source": [
    "path_base = \"Датасет оффроуд/Датасет оффроуд/Mississippi_ready\"\n",
    "folder = []\n",
    "folder.append(\"Powerline\")\n",
    "folder.append(\"Main_Trail\")\n",
    "folder.append(\"Fogdata\")\n",
    "folder.append(\"Brown_field\")"
   ]
  },
  {
   "cell_type": "code",
   "execution_count": 35,
   "id": "f006b46d-66e1-48f4-8023-2b78371b8e0c",
   "metadata": {},
   "outputs": [],
   "source": [
    "len_start = 514\n",
    "len_arr = []\n",
    "len_arr.append(99)\n",
    "len_arr.append(200)\n",
    "len_arr.append(279)\n",
    "len_arr.append(200)"
   ]
  },
  {
   "cell_type": "code",
   "execution_count": 27,
   "id": "f61ddbcf-3c79-4c48-a6f4-ebf477119f99",
   "metadata": {},
   "outputs": [],
   "source": [
    "# num = file number\n",
    "# path\n",
    "# ext = file extension\n",
    "# cum_num = the sum of all previous counts (where to start)\n",
    "def rename(num, path, ext, cum_num):\n",
    "    # file name\n",
    "    file_name = \"0\"*(5 - len(str(num))) + str(num) + ext\n",
    "    file_name_o = file_name\n",
    "    # int + x\n",
    "    file_num = num + cum_num # num goes from 1 to end, x is the last file number before the current\n",
    "    # int -> str\n",
    "    file_name = str(file_num)\n",
    "    # return leading 0s\n",
    "    file_name = \"0\"*(5 - len(file_name)) + file_name\n",
    "    # return file extention\n",
    "    file_name = file_name + ext\n",
    "    # rename file\n",
    "    os.rename(f\"{path}/{file_name_o}\", f\"{path}/{file_name}\")"
   ]
  },
  {
   "cell_type": "code",
   "execution_count": 43,
   "id": "df6f8468-d3d9-4c96-9e21-e42b1e8b0a30",
   "metadata": {},
   "outputs": [],
   "source": [
    "for i in range(4):\n",
    "    path_full = f\"{path_base}/{folder[i]}\"\n",
    "    #code\n",
    "    for j in range(1, len_arr[i]+1):\n",
    "        fname = \"0\"*(5 - len(str(j))) + str(j)\n",
    "        rename(j, f\"{path_full}/{fname}\", '.jpg', len_start)\n",
    "        rename(j, f\"{path_full}/{fname}\", '.png', len_start)\n",
    "        rename(j, path_full, '', len_start)\n",
    "    # next starting file number\n",
    "    len_start += len_arr[i]"
   ]
  },
  {
   "cell_type": "markdown",
   "id": "7bdc6af2-9556-40c0-a05b-4125c0eb57a1",
   "metadata": {},
   "source": [
    "# Separate Photo and Annotation"
   ]
  },
  {
   "cell_type": "code",
   "execution_count": 3,
   "id": "8f09c841-7f58-423f-a1be-ad4616b07424",
   "metadata": {},
   "outputs": [],
   "source": [
    "# These paths must already exist (be created) for the code to work\n",
    "path_base = \"Dataset/Train\"\n",
    "path_photo = \"Dataset/Train_Photo\"\n",
    "path_annot = \"Dataset/Train_Annot\"\n",
    "\n",
    "# not the right way to do it, but not difficult right now\n",
    "num_max = 1292 "
   ]
  },
  {
   "cell_type": "code",
   "execution_count": 5,
   "id": "60016c1b-4745-46e0-b6de-63a7d50cc77f",
   "metadata": {},
   "outputs": [],
   "source": [
    "# num = file number\n",
    "def move(num, p_base = path_base, p_photo = path_photo, p_annot = path_annot):\n",
    "    ext_a = \".png\"\n",
    "    ext_p = \".jpg\"\n",
    "    # file name\n",
    "    file_name = \"0\"*(5 - len(str(num))) + str(num)\n",
    "    path_o = f\"{path_base}/{file_name}\"\n",
    "    file_name_p = file_name + ext_p\n",
    "    file_name_a = file_name + ext_a\n",
    "    # move file\n",
    "    os.rename(f\"{path_o}/{file_name_p}\", f\"{p_photo}/{file_name_p}\")\n",
    "    os.rename(f\"{path_o}/{file_name_a}\", f\"{p_annot}/{file_name_a}\")"
   ]
  },
  {
   "cell_type": "code",
   "execution_count": 11,
   "id": "bc4f1b86-6869-45c1-bb53-db60c43d58c4",
   "metadata": {},
   "outputs": [],
   "source": [
    "# 220.jpg and 224.jpg missing for me\n",
    "for i in range(0, 220):\n",
    "    move(i)\n",
    "for i in range(221, 224):\n",
    "    move(i)\n",
    "for i in range(225, num_max + 1):\n",
    "    move(i)"
   ]
  },
  {
   "cell_type": "code",
   "execution_count": null,
   "id": "532ccddf-c6fc-4d3a-870e-808f08bbdfe1",
   "metadata": {},
   "outputs": [],
   "source": []
  }
 ],
 "metadata": {
  "kernelspec": {
   "display_name": "Python [conda env:base] *",
   "language": "python",
   "name": "conda-base-py"
  },
  "language_info": {
   "codemirror_mode": {
    "name": "ipython",
    "version": 3
   },
   "file_extension": ".py",
   "mimetype": "text/x-python",
   "name": "python",
   "nbconvert_exporter": "python",
   "pygments_lexer": "ipython3",
   "version": "3.12.9"
  }
 },
 "nbformat": 4,
 "nbformat_minor": 5
}
