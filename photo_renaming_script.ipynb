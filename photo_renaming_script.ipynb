{
 "cells": [
  {
   "cell_type": "code",
   "execution_count": 15,
   "id": "01405023-691c-4dea-804f-e6520975ef5d",
   "metadata": {},
   "outputs": [],
   "source": [
    "import os"
   ]
  },
  {
   "cell_type": "code",
   "execution_count": 33,
   "id": "2cf0296b-0620-4f02-b1d8-460005c204f7",
   "metadata": {},
   "outputs": [],
   "source": [
    "path_base = \"Датасет оффроуд/Датасет оффроуд/Mississippi_ready\"\n",
    "folder = []\n",
    "folder.append(\"Powerline\")\n",
    "folder.append(\"Main_Trail\")\n",
    "folder.append(\"Fogdata\")\n",
    "folder.append(\"Brown_field\")"
   ]
  },
  {
   "cell_type": "code",
   "execution_count": 35,
   "id": "f006b46d-66e1-48f4-8023-2b78371b8e0c",
   "metadata": {},
   "outputs": [],
   "source": [
    "len_start = 514\n",
    "len_arr = []\n",
    "len_arr.append(99)\n",
    "len_arr.append(200)\n",
    "len_arr.append(279)\n",
    "len_arr.append(200)"
   ]
  },
  {
   "cell_type": "code",
   "execution_count": 27,
   "id": "f61ddbcf-3c79-4c48-a6f4-ebf477119f99",
   "metadata": {},
   "outputs": [],
   "source": [
    "# num = file number\n",
    "# path\n",
    "# ext = file extension\n",
    "# cum_num = the sum of all previous counts (where to start)\n",
    "def rename(num, path, ext, cum_num):\n",
    "    # file name\n",
    "    file_name = \"0\"*(5 - len(str(num))) + str(num) + ext\n",
    "    file_name_o = file_name\n",
    "    # int + x\n",
    "    file_num = num + cum_num # num goes from 1 to end, x is the last file number before the current\n",
    "    # int -> str\n",
    "    file_name = str(file_num)\n",
    "    # return leading 0s\n",
    "    file_name = \"0\"*(5 - len(file_name)) + file_name\n",
    "    # return file extention\n",
    "    file_name = file_name + ext\n",
    "    # rename file\n",
    "    os.rename(f\"{path}/{file_name_o}\", f\"{path}/{file_name}\")"
   ]
  },
  {
   "cell_type": "code",
   "execution_count": 43,
   "id": "df6f8468-d3d9-4c96-9e21-e42b1e8b0a30",
   "metadata": {},
   "outputs": [],
   "source": [
    "for i in range(4):\n",
    "    path_full = f\"{path_base}/{folder[i]}\"\n",
    "    #code\n",
    "    for j in range(1, len_arr[i]+1):\n",
    "        fname = \"0\"*(5 - len(str(j))) + str(j)\n",
    "        rename(j, f\"{path_full}/{fname}\", '.jpg', len_start)\n",
    "        rename(j, f\"{path_full}/{fname}\", '.png', len_start)\n",
    "        rename(j, path_full, '', len_start)\n",
    "    # next starting file number\n",
    "    len_start += len_arr[i]"
   ]
  }
 ],
 "metadata": {
  "kernelspec": {
   "display_name": "Python [conda env:base] *",
   "language": "python",
   "name": "conda-base-py"
  },
  "language_info": {
   "codemirror_mode": {
    "name": "ipython",
    "version": 3
   },
   "file_extension": ".py",
   "mimetype": "text/x-python",
   "name": "python",
   "nbconvert_exporter": "python",
   "pygments_lexer": "ipython3",
   "version": "3.12.9"
  }
 },
 "nbformat": 4,
 "nbformat_minor": 5
}
